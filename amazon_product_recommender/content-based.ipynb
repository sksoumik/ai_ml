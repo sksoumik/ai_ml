{
 "cells": [
  {
   "cell_type": "code",
   "execution_count": 1,
   "metadata": {},
   "outputs": [],
   "source": [
    "import pandas as pd   \n",
    "from tqdm import tqdm\n",
    "tqdm.pandas()\n",
    "import ast"
   ]
  },
  {
   "cell_type": "code",
   "execution_count": 2,
   "id": "9ea480a2",
   "metadata": {},
   "outputs": [],
   "source": [
    "df = pd.read_csv(\"../dataset/also_buy_formatted.csv\")"
   ]
  },
  {
   "cell_type": "code",
   "execution_count": 3,
   "id": "fe5b794f",
   "metadata": {},
   "outputs": [
    {
     "data": {
      "text/html": [
       "<div>\n",
       "<style scoped>\n",
       "    .dataframe tbody tr th:only-of-type {\n",
       "        vertical-align: middle;\n",
       "    }\n",
       "\n",
       "    .dataframe tbody tr th {\n",
       "        vertical-align: top;\n",
       "    }\n",
       "\n",
       "    .dataframe thead th {\n",
       "        text-align: right;\n",
       "    }\n",
       "</style>\n",
       "<table border=\"1\" class=\"dataframe\">\n",
       "  <thead>\n",
       "    <tr style=\"text-align: right;\">\n",
       "      <th></th>\n",
       "      <th>asin</th>\n",
       "      <th>category</th>\n",
       "      <th>title</th>\n",
       "      <th>description</th>\n",
       "      <th>brand</th>\n",
       "      <th>also_buy</th>\n",
       "      <th>also_view</th>\n",
       "      <th>available_also_buy</th>\n",
       "      <th>available_also_buy_title</th>\n",
       "      <th>available_also_buy_description</th>\n",
       "    </tr>\n",
       "  </thead>\n",
       "  <tbody>\n",
       "    <tr>\n",
       "      <th>0</th>\n",
       "      <td>0853347867</td>\n",
       "      <td>['Grocery &amp; Gourmet Food', 'Cooking &amp; Baking',...</td>\n",
       "      <td>Trim Healthy Mama Xylitol</td>\n",
       "      <td>['Shipped from UK, please allow 10 to 21 busin...</td>\n",
       "      <td>NaN</td>\n",
       "      <td>['B01898YHXK', 'B01BCM6LAC', 'B00Q4OL47O', 'B0...</td>\n",
       "      <td>[]</td>\n",
       "      <td>['B01898YHXK', 'B00Q4OL47O', 'B00Q4OL2F8', 'B0...</td>\n",
       "      <td>[array(['Trim Healthy Mama Gluten Free, Low Gl...</td>\n",
       "      <td>[array(['[\"-Gluten-Free -NO-GMO\\'s -High Fiber...</td>\n",
       "    </tr>\n",
       "    <tr>\n",
       "      <th>1</th>\n",
       "      <td>4639725043</td>\n",
       "      <td>['Grocery &amp; Gourmet Food', 'Beverages', 'Coffe...</td>\n",
       "      <td>Lipton Yellow Label Tea (loose tea) - 450g</td>\n",
       "      <td>['Lipton Yellow Label Tea use only the finest ...</td>\n",
       "      <td>Lipton</td>\n",
       "      <td>['B00886E4K0', 'B00CREXSHY', 'B001QTRGAQ', 'B0...</td>\n",
       "      <td>['B00CREXSHY', 'B001QTRGAQ', 'B000JSQK70', 'B0...</td>\n",
       "      <td>['B00886E4K0', 'B001QTRGAQ', 'B002EYZM4O', 'B0...</td>\n",
       "      <td>[array(['Alwazah Tea, Pure Ceylon, 14.1 Ounce'...</td>\n",
       "      <td>[array(['[\"Alwazah Tea\\'s popularity is mainly...</td>\n",
       "    </tr>\n",
       "  </tbody>\n",
       "</table>\n",
       "</div>"
      ],
      "text/plain": [
       "         asin                                           category  \\\n",
       "0  0853347867  ['Grocery & Gourmet Food', 'Cooking & Baking',...   \n",
       "1  4639725043  ['Grocery & Gourmet Food', 'Beverages', 'Coffe...   \n",
       "\n",
       "                                        title  \\\n",
       "0                   Trim Healthy Mama Xylitol   \n",
       "1  Lipton Yellow Label Tea (loose tea) - 450g   \n",
       "\n",
       "                                         description   brand  \\\n",
       "0  ['Shipped from UK, please allow 10 to 21 busin...     NaN   \n",
       "1  ['Lipton Yellow Label Tea use only the finest ...  Lipton   \n",
       "\n",
       "                                            also_buy  \\\n",
       "0  ['B01898YHXK', 'B01BCM6LAC', 'B00Q4OL47O', 'B0...   \n",
       "1  ['B00886E4K0', 'B00CREXSHY', 'B001QTRGAQ', 'B0...   \n",
       "\n",
       "                                           also_view  \\\n",
       "0                                                 []   \n",
       "1  ['B00CREXSHY', 'B001QTRGAQ', 'B000JSQK70', 'B0...   \n",
       "\n",
       "                                  available_also_buy  \\\n",
       "0  ['B01898YHXK', 'B00Q4OL47O', 'B00Q4OL2F8', 'B0...   \n",
       "1  ['B00886E4K0', 'B001QTRGAQ', 'B002EYZM4O', 'B0...   \n",
       "\n",
       "                            available_also_buy_title  \\\n",
       "0  [array(['Trim Healthy Mama Gluten Free, Low Gl...   \n",
       "1  [array(['Alwazah Tea, Pure Ceylon, 14.1 Ounce'...   \n",
       "\n",
       "                      available_also_buy_description  \n",
       "0  [array(['[\"-Gluten-Free -NO-GMO\\'s -High Fiber...  \n",
       "1  [array(['[\"Alwazah Tea\\'s popularity is mainly...  "
      ]
     },
     "execution_count": 3,
     "metadata": {},
     "output_type": "execute_result"
    }
   ],
   "source": [
    "df.head(2)"
   ]
  },
  {
   "cell_type": "code",
   "execution_count": 4,
   "id": "b11b1358",
   "metadata": {},
   "outputs": [
    {
     "data": {
      "text/plain": [
       "(83294, 10)"
      ]
     },
     "execution_count": 4,
     "metadata": {},
     "output_type": "execute_result"
    }
   ],
   "source": [
    "df.shape"
   ]
  },
  {
   "cell_type": "code",
   "execution_count": 5,
   "id": "564f5452",
   "metadata": {},
   "outputs": [],
   "source": [
    "# delete all the null values\n",
    "df = df.dropna(subset=['also_buy'])"
   ]
  },
  {
   "cell_type": "code",
   "execution_count": 6,
   "id": "12ae58e6",
   "metadata": {},
   "outputs": [
    {
     "data": {
      "text/plain": [
       "(83294, 10)"
      ]
     },
     "execution_count": 6,
     "metadata": {},
     "output_type": "execute_result"
    }
   ],
   "source": [
    "df.shape"
   ]
  },
  {
   "cell_type": "code",
   "execution_count": 7,
   "id": "427b5b1c",
   "metadata": {},
   "outputs": [],
   "source": [
    "# delete the duplicates\n",
    "df = df.drop_duplicates(subset=['asin', 'title'])"
   ]
  },
  {
   "cell_type": "code",
   "execution_count": 8,
   "id": "a660dc37",
   "metadata": {},
   "outputs": [
    {
     "data": {
      "text/plain": [
       "(82270, 10)"
      ]
     },
     "execution_count": 8,
     "metadata": {},
     "output_type": "execute_result"
    }
   ],
   "source": [
    "df.shape"
   ]
  },
  {
   "cell_type": "code",
   "execution_count": 9,
   "id": "471b67a9",
   "metadata": {},
   "outputs": [],
   "source": [
    "# delete 2 columns\n",
    "df = df.drop(columns=['brand', 'also_view'])"
   ]
  },
  {
   "cell_type": "code",
   "execution_count": 10,
   "id": "c47491be",
   "metadata": {},
   "outputs": [
    {
     "data": {
      "text/plain": [
       "(82270, 8)"
      ]
     },
     "execution_count": 10,
     "metadata": {},
     "output_type": "execute_result"
    }
   ],
   "source": [
    "df.shape"
   ]
  },
  {
   "cell_type": "code",
   "execution_count": 11,
   "id": "7b78ddf6",
   "metadata": {},
   "outputs": [],
   "source": [
    "df[\"category\"] = df[\"category\"].apply(lambda x: ast.literal_eval(x))\n",
    "df[\"also_buy\"] = df[\"also_buy\"].apply(lambda x: ast.literal_eval(x))"
   ]
  },
  {
   "cell_type": "code",
   "execution_count": 12,
   "id": "ca1a91d2",
   "metadata": {},
   "outputs": [],
   "source": [
    "# preprocess text for word2vec\n",
    "# remove all punctuation\n",
    "df[\"description\"] = df[\"description\"].str.replace('[^\\w\\s]','')\n",
    "df[\"description\"] = df[\"description\"].apply(lambda x: x.lower())"
   ]
  },
  {
   "cell_type": "code",
   "execution_count": 14,
   "id": "fe45c9a7",
   "metadata": {},
   "outputs": [
    {
     "name": "stdout",
     "output_type": "stream",
     "text": [
      "lipton yellow label teabags uses a new way to make tea to lock in as much of the tea taste and aroma as possible we developed an innovative new process we press fresh high quality tea leaves to release their natural essence and we have developed a new blend with this essence enjoy a cup of tea with perfect color and taste that reinvigorates you shipping weight 1400 keywords search terms black tea bags lipton tea bags statements regarding dietary supplements have not been evaluated by the fda and are not intended to diagnose treat cure or prevent any disease or health condition\n"
     ]
    }
   ],
   "source": [
    "print(df[\"description\"][2])"
   ]
  },
  {
   "cell_type": "code",
   "execution_count": 15,
   "id": "7d9e2051",
   "metadata": {},
   "outputs": [],
   "source": [
    "# remove fda warnings\n",
    "df[\"description\"] = df[\"description\"].str.replace('statements regarding dietary supplements have not been evaluated by the fda and are not intended to diagnose treat cure or prevent any disease or health condition','')"
   ]
  },
  {
   "cell_type": "code",
   "execution_count": 17,
   "id": "337560d8",
   "metadata": {},
   "outputs": [],
   "source": [
    "import re  # For preprocessing\n",
    "import pandas as pd  # For data handling\n",
    "from time import time  # To time our operations\n",
    "from collections import defaultdict  # For word frequency\n",
    "\n",
    "import spacy  # For preprocessing\n",
    "\n",
    "import logging  # Setting up the loggings to monitor gensim\n",
    "logging.basicConfig(format=\"%(levelname)s - %(asctime)s: %(message)s\", datefmt= '%H:%M:%S', level=logging.INFO)"
   ]
  },
  {
   "cell_type": "code",
   "execution_count": 19,
   "id": "78c62ec9",
   "metadata": {},
   "outputs": [
    {
     "data": {
      "text/plain": [
       "asin                              0\n",
       "category                          0\n",
       "title                             0\n",
       "description                       0\n",
       "also_buy                          0\n",
       "available_also_buy                0\n",
       "available_also_buy_title          0\n",
       "available_also_buy_description    0\n",
       "dtype: int64"
      ]
     },
     "execution_count": 19,
     "metadata": {},
     "output_type": "execute_result"
    }
   ],
   "source": [
    "df = df.dropna().reset_index(drop=True)\n",
    "df.isnull().sum()"
   ]
  },
  {
   "cell_type": "code",
   "execution_count": 21,
   "id": "ee8262fe",
   "metadata": {},
   "outputs": [
    {
     "ename": "OSError",
     "evalue": "[E050] Can't find model 'en_core_web_sm'. It doesn't seem to be a Python package or a valid path to a data directory.",
     "output_type": "error",
     "traceback": [
      "\u001b[0;31m---------------------------------------------------------------------------\u001b[0m",
      "\u001b[0;31mOSError\u001b[0m                                   Traceback (most recent call last)",
      "\u001b[0;32m<ipython-input-21-a9d4c25ffbe2>\u001b[0m in \u001b[0;36m<module>\u001b[0;34m\u001b[0m\n\u001b[0;32m----> 1\u001b[0;31m \u001b[0mnlp\u001b[0m \u001b[0;34m=\u001b[0m \u001b[0mspacy\u001b[0m\u001b[0;34m.\u001b[0m\u001b[0mload\u001b[0m\u001b[0;34m(\u001b[0m\u001b[0;34m\"en_core_web_sm\"\u001b[0m\u001b[0;34m)\u001b[0m \u001b[0;31m# disabling Named Entity Recognition for speed\u001b[0m\u001b[0;34m\u001b[0m\u001b[0;34m\u001b[0m\u001b[0m\n\u001b[0m\u001b[1;32m      2\u001b[0m \u001b[0;34m\u001b[0m\u001b[0m\n\u001b[1;32m      3\u001b[0m \u001b[0;32mdef\u001b[0m \u001b[0mcleaning\u001b[0m\u001b[0;34m(\u001b[0m\u001b[0mdoc\u001b[0m\u001b[0;34m)\u001b[0m\u001b[0;34m:\u001b[0m\u001b[0;34m\u001b[0m\u001b[0;34m\u001b[0m\u001b[0m\n\u001b[1;32m      4\u001b[0m     \u001b[0;31m# Lemmatizes and removes stopwords\u001b[0m\u001b[0;34m\u001b[0m\u001b[0;34m\u001b[0m\u001b[0;34m\u001b[0m\u001b[0m\n\u001b[1;32m      5\u001b[0m     \u001b[0;31m# doc needs to be a spacy Doc object\u001b[0m\u001b[0;34m\u001b[0m\u001b[0;34m\u001b[0m\u001b[0;34m\u001b[0m\u001b[0m\n",
      "\u001b[0;32m~/anaconda3/lib/python3.8/site-packages/spacy/__init__.py\u001b[0m in \u001b[0;36mload\u001b[0;34m(name, vocab, disable, exclude, config)\u001b[0m\n\u001b[1;32m     48\u001b[0m     \u001b[0mRETURNS\u001b[0m \u001b[0;34m(\u001b[0m\u001b[0mLanguage\u001b[0m\u001b[0;34m)\u001b[0m\u001b[0;34m:\u001b[0m \u001b[0mThe\u001b[0m \u001b[0mloaded\u001b[0m \u001b[0mnlp\u001b[0m \u001b[0mobject\u001b[0m\u001b[0;34m.\u001b[0m\u001b[0;34m\u001b[0m\u001b[0;34m\u001b[0m\u001b[0m\n\u001b[1;32m     49\u001b[0m     \"\"\"\n\u001b[0;32m---> 50\u001b[0;31m     return util.load_model(\n\u001b[0m\u001b[1;32m     51\u001b[0m         \u001b[0mname\u001b[0m\u001b[0;34m,\u001b[0m \u001b[0mvocab\u001b[0m\u001b[0;34m=\u001b[0m\u001b[0mvocab\u001b[0m\u001b[0;34m,\u001b[0m \u001b[0mdisable\u001b[0m\u001b[0;34m=\u001b[0m\u001b[0mdisable\u001b[0m\u001b[0;34m,\u001b[0m \u001b[0mexclude\u001b[0m\u001b[0;34m=\u001b[0m\u001b[0mexclude\u001b[0m\u001b[0;34m,\u001b[0m \u001b[0mconfig\u001b[0m\u001b[0;34m=\u001b[0m\u001b[0mconfig\u001b[0m\u001b[0;34m\u001b[0m\u001b[0;34m\u001b[0m\u001b[0m\n\u001b[1;32m     52\u001b[0m     )\n",
      "\u001b[0;32m~/anaconda3/lib/python3.8/site-packages/spacy/util.py\u001b[0m in \u001b[0;36mload_model\u001b[0;34m(name, vocab, disable, exclude, config)\u001b[0m\n\u001b[1;32m    329\u001b[0m     \u001b[0;32mif\u001b[0m \u001b[0mname\u001b[0m \u001b[0;32min\u001b[0m \u001b[0mOLD_MODEL_SHORTCUTS\u001b[0m\u001b[0;34m:\u001b[0m\u001b[0;34m\u001b[0m\u001b[0;34m\u001b[0m\u001b[0m\n\u001b[1;32m    330\u001b[0m         \u001b[0;32mraise\u001b[0m \u001b[0mIOError\u001b[0m\u001b[0;34m(\u001b[0m\u001b[0mErrors\u001b[0m\u001b[0;34m.\u001b[0m\u001b[0mE941\u001b[0m\u001b[0;34m.\u001b[0m\u001b[0mformat\u001b[0m\u001b[0;34m(\u001b[0m\u001b[0mname\u001b[0m\u001b[0;34m=\u001b[0m\u001b[0mname\u001b[0m\u001b[0;34m,\u001b[0m \u001b[0mfull\u001b[0m\u001b[0;34m=\u001b[0m\u001b[0mOLD_MODEL_SHORTCUTS\u001b[0m\u001b[0;34m[\u001b[0m\u001b[0mname\u001b[0m\u001b[0;34m]\u001b[0m\u001b[0;34m)\u001b[0m\u001b[0;34m)\u001b[0m\u001b[0;34m\u001b[0m\u001b[0;34m\u001b[0m\u001b[0m\n\u001b[0;32m--> 331\u001b[0;31m     \u001b[0;32mraise\u001b[0m \u001b[0mIOError\u001b[0m\u001b[0;34m(\u001b[0m\u001b[0mErrors\u001b[0m\u001b[0;34m.\u001b[0m\u001b[0mE050\u001b[0m\u001b[0;34m.\u001b[0m\u001b[0mformat\u001b[0m\u001b[0;34m(\u001b[0m\u001b[0mname\u001b[0m\u001b[0;34m=\u001b[0m\u001b[0mname\u001b[0m\u001b[0;34m)\u001b[0m\u001b[0;34m)\u001b[0m\u001b[0;34m\u001b[0m\u001b[0;34m\u001b[0m\u001b[0m\n\u001b[0m\u001b[1;32m    332\u001b[0m \u001b[0;34m\u001b[0m\u001b[0m\n\u001b[1;32m    333\u001b[0m \u001b[0;34m\u001b[0m\u001b[0m\n",
      "\u001b[0;31mOSError\u001b[0m: [E050] Can't find model 'en_core_web_sm'. It doesn't seem to be a Python package or a valid path to a data directory."
     ]
    }
   ],
   "source": [
    "nlp = spacy.load(\"en_core_web_sm\") # disabling Named Entity Recognition for speed\n",
    "\n",
    "def cleaning(doc):\n",
    "    # Lemmatizes and removes stopwords\n",
    "    # doc needs to be a spacy Doc object\n",
    "    txt = [token.lemma_ for token in doc if not token.is_stop]\n",
    "    # Word2Vec uses context words to learn the vector representation of a target word,\n",
    "    # if a sentence is only one or two words long,\n",
    "    # the benefit for the training is very small\n",
    "    if len(txt) > 2:\n",
    "        return ' '.join(txt)"
   ]
  },
  {
   "cell_type": "code",
   "execution_count": null,
   "id": "15ff03f9",
   "metadata": {},
   "outputs": [],
   "source": []
  }
 ],
 "metadata": {
  "interpreter": {
   "hash": "62331b4a3b45ea45288138cdd65d40d06ce7a6b1ab591b1d88922e81b1c56572"
  },
  "kernelspec": {
   "display_name": "Python 3.8.8 64-bit ('base': conda)",
   "language": "python",
   "name": "python3"
  },
  "language_info": {
   "codemirror_mode": {
    "name": "ipython",
    "version": 3
   },
   "file_extension": ".py",
   "mimetype": "text/x-python",
   "name": "python",
   "nbconvert_exporter": "python",
   "pygments_lexer": "ipython3",
   "version": "3.8.8"
  }
 },
 "nbformat": 4,
 "nbformat_minor": 5
}
